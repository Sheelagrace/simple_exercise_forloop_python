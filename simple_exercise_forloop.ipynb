{
 "cells": [
  {
   "cell_type": "markdown",
   "id": "bc0105f2",
   "metadata": {},
   "source": [
    "#### For Loop\n",
    "### to do one work we will use loop"
   ]
  },
  {
   "cell_type": "code",
   "execution_count": 1,
   "id": "65007aa7",
   "metadata": {},
   "outputs": [
    {
     "name": "stdout",
     "output_type": "stream",
     "text": [
      "[1, 2, 3, 4, 5, 6, 7, 8, 9, 10, 11, 12, 13, 14, 15]\n"
     ]
    }
   ],
   "source": [
    "print(list(range(1,16)))"
   ]
  },
  {
   "cell_type": "code",
   "execution_count": null,
   "id": "60edb7d8",
   "metadata": {},
   "outputs": [],
   "source": [
    "range(start,end-1,gap)"
   ]
  },
  {
   "cell_type": "code",
   "execution_count": 3,
   "id": "4a997516",
   "metadata": {},
   "outputs": [
    {
     "name": "stdout",
     "output_type": "stream",
     "text": [
      "[1, 3, 5, 7, 9, 11, 13, 15]\n"
     ]
    }
   ],
   "source": [
    "print(list(range(1,16,2)))"
   ]
  },
  {
   "cell_type": "markdown",
   "id": "dc34e1d5",
   "metadata": {},
   "source": [
    "### while using for loop we will use for loop function"
   ]
  },
  {
   "cell_type": "code",
   "execution_count": 4,
   "id": "6fe6f05d",
   "metadata": {},
   "outputs": [
    {
     "name": "stdout",
     "output_type": "stream",
     "text": [
      "solution\n",
      "solution\n",
      "solution\n",
      "solution\n",
      "solution\n",
      "solution\n",
      "solution\n",
      "solution\n",
      "solution\n",
      "solution\n"
     ]
    }
   ],
   "source": [
    "for i in range(1,11):\n",
    "    print(\"solution\")"
   ]
  },
  {
   "cell_type": "code",
   "execution_count": 5,
   "id": "c6b5f4d2",
   "metadata": {},
   "outputs": [
    {
     "name": "stdout",
     "output_type": "stream",
     "text": [
      "1 solution\n",
      "2 solution\n",
      "3 solution\n",
      "4 solution\n",
      "5 solution\n",
      "6 solution\n",
      "7 solution\n",
      "8 solution\n",
      "9 solution\n",
      "10 solution\n"
     ]
    }
   ],
   "source": [
    "for i in range(1,11):\n",
    "    print(i,\"solution\")"
   ]
  },
  {
   "cell_type": "code",
   "execution_count": 6,
   "id": "5b4265ec",
   "metadata": {},
   "outputs": [
    {
     "name": "stdout",
     "output_type": "stream",
     "text": [
      "10\n",
      "20\n",
      "30\n",
      "40\n",
      "50\n"
     ]
    }
   ],
   "source": [
    "list=[10,20,30,40,50]\n",
    "for value in list:\n",
    "    print(value)"
   ]
  },
  {
   "cell_type": "code",
   "execution_count": 22,
   "id": "f46924ee",
   "metadata": {},
   "outputs": [
    {
     "name": "stdout",
     "output_type": "stream",
     "text": [
      "sum_: 150\n"
     ]
    }
   ],
   "source": [
    "list=[10,20,30,40,50]\n",
    "s=0\n",
    "for value in list:\n",
    "    s=s+value\n",
    "    \n",
    "print('sum_:',s)    "
   ]
  },
  {
   "cell_type": "code",
   "execution_count": 29,
   "id": "e0627407",
   "metadata": {},
   "outputs": [
    {
     "name": "stdout",
     "output_type": "stream",
     "text": [
      "sum_: 150\n"
     ]
    }
   ],
   "source": [
    "list=[10,20,30,40,50]\n",
    "s=0\n",
    "for value in list:\n",
    "    s=s+value\n",
    "    \n",
    "print('sum_:',s)    "
   ]
  },
  {
   "cell_type": "code",
   "execution_count": 30,
   "id": "2bc5a9fe",
   "metadata": {},
   "outputs": [
    {
     "name": "stdout",
     "output_type": "stream",
     "text": [
      "Enter Table Number:9\n",
      "9 * 1 = 9\n",
      "9 * 2 = 9\n",
      "9 * 3 = 9\n",
      "9 * 4 = 9\n",
      "9 * 5 = 9\n",
      "9 * 6 = 9\n",
      "9 * 7 = 9\n",
      "9 * 8 = 9\n",
      "9 * 9 = 9\n",
      "9 * 10 = 9\n",
      "9 * 11 = 9\n",
      "9 * 12 = 9\n",
      "9 * 13 = 9\n",
      "9 * 14 = 9\n",
      "9 * 15 = 9\n",
      "9 * 16 = 9\n",
      "9 * 17 = 9\n",
      "9 * 18 = 9\n",
      "9 * 19 = 9\n",
      "9 * 20 = 9\n"
     ]
    }
   ],
   "source": [
    "t = int(input('Enter Table Number:'))\n",
    "\n",
    "for i in range(1,21):\n",
    "    print(t,'*',i,'=',t*1)"
   ]
  },
  {
   "cell_type": "code",
   "execution_count": 31,
   "id": "d6b326a5",
   "metadata": {},
   "outputs": [
    {
     "name": "stdout",
     "output_type": "stream",
     "text": [
      "Enter Table Number:19\n",
      "19 * 1 = 19\n",
      "19 * 2 = 19\n",
      "19 * 3 = 19\n",
      "19 * 4 = 19\n",
      "19 * 5 = 19\n",
      "19 * 6 = 19\n",
      "19 * 7 = 19\n",
      "19 * 8 = 19\n",
      "19 * 9 = 19\n",
      "19 * 10 = 19\n",
      "19 * 11 = 19\n",
      "19 * 12 = 19\n",
      "19 * 13 = 19\n",
      "19 * 14 = 19\n",
      "19 * 15 = 19\n",
      "19 * 16 = 19\n",
      "19 * 17 = 19\n",
      "19 * 18 = 19\n",
      "19 * 19 = 19\n",
      "19 * 20 = 19\n"
     ]
    }
   ],
   "source": [
    "t = int(input('Enter Table Number:'))\n",
    "\n",
    "for i in range(1,21):\n",
    "    print(t,'*',i,'=',t*1)"
   ]
  },
  {
   "cell_type": "code",
   "execution_count": null,
   "id": "c466efcf",
   "metadata": {},
   "outputs": [],
   "source": []
  }
 ],
 "metadata": {
  "kernelspec": {
   "display_name": "Python 3 (ipykernel)",
   "language": "python",
   "name": "python3"
  },
  "language_info": {
   "codemirror_mode": {
    "name": "ipython",
    "version": 3
   },
   "file_extension": ".py",
   "mimetype": "text/x-python",
   "name": "python",
   "nbconvert_exporter": "python",
   "pygments_lexer": "ipython3",
   "version": "3.11.5"
  }
 },
 "nbformat": 4,
 "nbformat_minor": 5
}
